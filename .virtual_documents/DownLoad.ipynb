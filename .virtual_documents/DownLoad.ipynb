


import pandas as pd
from sklearn.datasets import fetch_california_housing

# データセットのロード
california_housing = fetch_california_housing()

# Pandas DataFrameへの変換
df = pd.DataFrame(california_housing.data, columns=california_housing.feature_names)
df['MedHouseVal'] = california_housing.target

# CSVファイルへの保存
df.to_csv('california_housing.csv', index=False)

print("california_housing.csv ファイルが保存されました。")



