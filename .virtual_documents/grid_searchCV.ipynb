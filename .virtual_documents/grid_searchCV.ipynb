


import pandas as pd
from sklearn.datasets import fetch_california_housing
from sklearn.model_selection import train_test_split, GridSearchCV
from sklearn.ensemble import RandomForestRegressor
from sklearn.metrics import mean_squared_error, r2_score

# データセットのロードと前処理
california_housing = fetch_california_housing()
df = pd.DataFrame(california_housing.data, columns=california_housing.feature_names)
df['MedHouseVal'] = california_housing.target
X = df.drop('MedHouseVal', axis=1)
y = df['MedHouseVal']
X_train, X_test, y_train, y_test = train_test_split(X, y, test_size=0.2, random_state=42)

# ハイパーパラメータの範囲を設定
param_grid = {
    'n_estimators': [10, 15],  # 決定木の数
    'max_depth': [None, 10],  # 決定木の最大深度
    'min_samples_split': [2, 5]  # ノード分割に必要な最小サンプル数
}

# ランダムフォレストモデルの作成
model = RandomForestRegressor(random_state=42)

# GridSearchCVによるハイパーパラメータチューニング
grid_search = GridSearchCV(estimator=model, param_grid=param_grid, cv=5, scoring='neg_mean_squared_error')

# 学習の実行
grid_search.fit(X_train, y_train)

# 最適なハイパーパラメータとスコアを表示
print("Best parameters:", grid_search.best_params_)
print("Best score:", grid_search.best_score_)

# 最適なモデルでテストデータを予測
best_model = grid_search.best_estimator_
y_pred = best_model.predict(X_test)

# モデルの評価
mse = mean_squared_error(y_test, y_pred)
r2 = r2_score(y_test, y_pred)
print(f"Test MSE: {mse:.4f}, Test R2: {r2:.4f}")



