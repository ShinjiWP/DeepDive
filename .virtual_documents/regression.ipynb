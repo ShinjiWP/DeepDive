


import pandas as pd
from sklearn.datasets import fetch_california_housing
from sklearn.model_selection import train_test_split, cross_val_score
from sklearn.linear_model import LinearRegression  # 線形回帰モデル
from sklearn.ensemble import RandomForestRegressor, GradientBoostingRegressor  # ランダムフォレスト回帰モデル、勾配ブースティング回帰モデル
from sklearn.metrics import mean_squared_error, r2_score  # 平均二乗誤差、決定係数（R2スコア）
from sklearn.metrics import accuracy_score
import numpy as np

# データセットの取得
california_housing = fetch_california_housing()
# scikit-learnのデータセットを使用しているためfeature_namesに特徴量のリストがまとまっている。
# 実情はこのケースはまれでカラムを個別に指定する必要がある。ｓ
df = pd.DataFrame(california_housing.data, columns=california_housing.feature_names)
# MedHouseValカラムを作成して、データを挿入する
df['MedHouseVal'] = california_housing.target

# 特徴量とターゲット変数の分離
X = df.drop('MedHouseVal', axis=1)
y = df['MedHouseVal']

# データの分割
X_train, X_test, y_train, y_test = train_test_split(X, y, test_size =0.2)




# 線形回帰モデルの構築と学習
linear_model = LinearRegression()
# 学習の実行
linear_model.fit(X_train, y_train)

# ランダムフォレスト回帰モデルの構築と学習
rf_model = RandomForestRegressor(random_state=42)
# 学習の実行
rf_model.fit(X_train, y_train)

# 勾配ブースティング回帰モデルの構築と学習
gb_model = GradientBoostingRegressor(random_state=42)
# 学習の実行
gb_model.fit(X_train, y_train)



# 各モデルで予測
linear_pred = linear_model.predict(X_test)
rf_pred = rf_model.predict(X_test)
gb_pred = gb_model.predict(X_test)

# 各モデルの評価
def evaluate_model(y_true, y_pred, model_name):
    mse = mean_squared_error(y_true, y_pred)
    r2 = r2_score(y_true, y_pred)
    print(f'{model_name} - MSE: {mse:.4f}, R2: {r2:.4f}')

evaluate_model(y_test, linear_pred, 'Linear Regression')
evaluate_model(y_test, rf_pred, 'Random Forest Regression')
evaluate_model(y_test, gb_pred, 'Gradient Boosting Regression')




