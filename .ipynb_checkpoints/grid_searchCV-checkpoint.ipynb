{
 "cells": [
  {
   "cell_type": "markdown",
   "id": "c5e20e30-7a41-4ce1-a8a5-4bb3c7a0406e",
   "metadata": {},
   "source": [
    "カリフォルニア住宅価格データセットに対し、ランダムフォレスト回帰モデルを構築。\n",
    "GridSearchCVでハイパーパラメータ調整後、最適なモデルで価格を予測し、精度を評価。\n",
    "ハイパーパラメータ調整は手動で範囲を決める必要があり、またスペックの都合上、範囲を狭小に設定。"
   ]
  },
  {
   "cell_type": "code",
   "execution_count": 1,
   "id": "68847a09-99f2-4c24-b61e-71bbc5829d22",
   "metadata": {},
   "outputs": [
    {
     "name": "stdout",
     "output_type": "stream",
     "text": [
      "Best parameters: {'max_depth': None, 'min_samples_split': 5, 'n_estimators': 15}\n",
      "Best score: -0.2768660432700425\n",
      "Test MSE: 0.2705, Test R2: 0.7936\n"
     ]
    }
   ],
   "source": [
    "import pandas as pd\n",
    "from sklearn.datasets import fetch_california_housing\n",
    "from sklearn.model_selection import train_test_split, GridSearchCV\n",
    "from sklearn.ensemble import RandomForestRegressor\n",
    "from sklearn.metrics import mean_squared_error, r2_score\n",
    "\n",
    "# データセットのロードと前処理\n",
    "california_housing = fetch_california_housing()\n",
    "df = pd.DataFrame(california_housing.data, columns=california_housing.feature_names)\n",
    "df['MedHouseVal'] = california_housing.target\n",
    "X = df.drop('MedHouseVal', axis=1)\n",
    "y = df['MedHouseVal']\n",
    "X_train, X_test, y_train, y_test = train_test_split(X, y, test_size=0.2, random_state=42)\n",
    "\n",
    "# ハイパーパラメータの範囲を設定\n",
    "param_grid = {\n",
    "    'n_estimators': [10, 15],  # 決定木の数\n",
    "    'max_depth': [None, 10],  # 決定木の最大深度\n",
    "    'min_samples_split': [2, 5]  # ノード分割に必要な最小サンプル数\n",
    "}\n",
    "\n",
    "# ランダムフォレストモデルの作成\n",
    "model = RandomForestRegressor(random_state=42)\n",
    "\n",
    "# GridSearchCVによるハイパーパラメータチューニング\n",
    "grid_search = GridSearchCV(estimator=model, param_grid=param_grid, cv=5, scoring='neg_mean_squared_error')\n",
    "\n",
    "# 学習の実行\n",
    "grid_search.fit(X_train, y_train)\n",
    "\n",
    "# 最適なハイパーパラメータとスコアを表示\n",
    "print(\"Best parameters:\", grid_search.best_params_)\n",
    "print(\"Best score:\", grid_search.best_score_)\n",
    "\n",
    "# 最適なモデルでテストデータを予測\n",
    "best_model = grid_search.best_estimator_\n",
    "y_pred = best_model.predict(X_test)\n",
    "\n",
    "# モデルの評価\n",
    "mse = mean_squared_error(y_test, y_pred)\n",
    "r2 = r2_score(y_test, y_pred)\n",
    "print(f\"Test MSE: {mse:.4f}, Test R2: {r2:.4f}\")"
   ]
  },
  {
   "cell_type": "code",
   "execution_count": null,
   "id": "23f04964-ddbe-4bad-a0d5-745c0097900e",
   "metadata": {},
   "outputs": [],
   "source": []
  }
 ],
 "metadata": {
  "kernelspec": {
   "display_name": "Python 3 (ipykernel)",
   "language": "python",
   "name": "python3"
  },
  "language_info": {
   "codemirror_mode": {
    "name": "ipython",
    "version": 3
   },
   "file_extension": ".py",
   "mimetype": "text/x-python",
   "name": "python",
   "nbconvert_exporter": "python",
   "pygments_lexer": "ipython3",
   "version": "3.12.7"
  }
 },
 "nbformat": 4,
 "nbformat_minor": 5
}
