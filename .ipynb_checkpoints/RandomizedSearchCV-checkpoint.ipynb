{
 "cells": [
  {
   "cell_type": "markdown",
   "id": "4e2d105d-95b8-4159-b8d5-766578d7c3f2",
   "metadata": {},
   "source": [
    "カリフォルニア住宅価格データセットに対し、ランダムフォレスト回帰モデルを構築。\n",
    "RandomizedSearchCVでハイパーパラメータ調整後、最適なモデルで価格を予測し、精度を評価。\n",
    "RandomizedSearchCVにより適切なパラメータの組み合わせを探索。"
   ]
  },
  {
   "cell_type": "code",
   "execution_count": 1,
   "id": "157beef7-61da-451f-87e7-f8e8384e9506",
   "metadata": {},
   "outputs": [
    {
     "name": "stdout",
     "output_type": "stream",
     "text": [
      "Best parameters: {'max_depth': 22, 'min_samples_split': 5, 'n_estimators': 98}\n",
      "Best score: -0.26103753911075805\n",
      "Test MSE: 0.2556, Test R2: 0.8049\n"
     ]
    }
   ],
   "source": [
    "import pandas as pd\n",
    "from sklearn.datasets import fetch_california_housing\n",
    "from sklearn.model_selection import train_test_split, RandomizedSearchCV\n",
    "from sklearn.ensemble import RandomForestRegressor\n",
    "from sklearn.metrics import mean_squared_error, r2_score\n",
    "from scipy.stats import randint  # 整数値のランダム分布用\n",
    "\n",
    "# データセットのロードと前処理\n",
    "california_housing = fetch_california_housing()\n",
    "df = pd.DataFrame(california_housing.data, columns=california_housing.feature_names)\n",
    "df['MedHouseVal'] = california_housing.target\n",
    "X = df.drop('MedHouseVal', axis=1)\n",
    "y = df['MedHouseVal']\n",
    "X_train, X_test, y_train, y_test = train_test_split(X, y, test_size=0.2, random_state=42)\n",
    "\n",
    "# ハイパーパラメータの範囲を確率分布で設定\n",
    "param_distributions = {\n",
    "    'n_estimators': randint(10, 100),  # 10から100までのランダムな整数\n",
    "    'max_depth': [None] + list(randint(10, 30).rvs(10)),  # Noneと10から30までのランダムな整数10個\n",
    "    'min_samples_split': randint(2, 10)  # 2から10までのランダムな整数\n",
    "}\n",
    "\n",
    "# ランダムフォレストモデルの作成\n",
    "model = RandomForestRegressor(random_state=42)\n",
    "\n",
    "# RandomizedSearchCVによるハイパーパラメータチューニング\n",
    "random_search = RandomizedSearchCV(\n",
    "    estimator=model,\n",
    "    param_distributions=param_distributions,\n",
    "    n_iter=100,  # 試行回数\n",
    "    cv=5,\n",
    "    scoring='neg_mean_squared_error',\n",
    "    random_state=42\n",
    ")\n",
    "\n",
    "# 学習の実行\n",
    "random_search.fit(X_train, y_train)\n",
    "\n",
    "# 最適なハイパーパラメータとスコアを表示\n",
    "print(\"Best parameters:\", random_search.best_params_)\n",
    "print(\"Best score:\", random_search.best_score_)\n",
    "\n",
    "# 最適なモデルでテストデータを予測\n",
    "best_model = random_search.best_estimator_\n",
    "y_pred = best_model.predict(X_test)\n",
    "\n",
    "# モデルの評価\n",
    "mse = mean_squared_error(y_test, y_pred)\n",
    "r2 = r2_score(y_test, y_pred)\n",
    "print(f\"Test MSE: {mse:.4f}, Test R2: {r2:.4f}\")"
   ]
  },
  {
   "cell_type": "code",
   "execution_count": null,
   "id": "bdbc22ff-abe2-4aa7-aa7f-9af088c3ced7",
   "metadata": {},
   "outputs": [],
   "source": []
  }
 ],
 "metadata": {
  "kernelspec": {
   "display_name": "Python 3 (ipykernel)",
   "language": "python",
   "name": "python3"
  },
  "language_info": {
   "codemirror_mode": {
    "name": "ipython",
    "version": 3
   },
   "file_extension": ".py",
   "mimetype": "text/x-python",
   "name": "python",
   "nbconvert_exporter": "python",
   "pygments_lexer": "ipython3",
   "version": "3.12.2"
  }
 },
 "nbformat": 4,
 "nbformat_minor": 5
}
