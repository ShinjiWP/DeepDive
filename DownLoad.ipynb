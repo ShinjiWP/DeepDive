{
 "cells": [
  {
   "cell_type": "markdown",
   "id": "c7eca73d-a12c-4d6d-9c73-231652cd0866",
   "metadata": {},
   "source": [
    "モジュールのプリセットデータをDLするために作成"
   ]
  },
  {
   "cell_type": "code",
   "execution_count": 1,
   "id": "ab490c9c-e523-4417-b824-a064840ac00f",
   "metadata": {},
   "outputs": [
    {
     "name": "stdout",
     "output_type": "stream",
     "text": [
      "california_housing.csv ファイルが保存されました。\n"
     ]
    }
   ],
   "source": [
    "import pandas as pd\n",
    "from sklearn.datasets import fetch_california_housing\n",
    "\n",
    "# データセットのロード\n",
    "california_housing = fetch_california_housing()\n",
    "\n",
    "# Pandas DataFrameへの変換\n",
    "df = pd.DataFrame(california_housing.data, columns=california_housing.feature_names)\n",
    "df['MedHouseVal'] = california_housing.target\n",
    "\n",
    "# CSVファイルへの保存\n",
    "df.to_csv('california_housing.csv', index=False)\n",
    "\n",
    "print(\"california_housing.csv ファイルが保存されました。\")"
   ]
  },
  {
   "cell_type": "code",
   "execution_count": null,
   "id": "0b68d31a-9822-4a86-bc12-08667188ec60",
   "metadata": {},
   "outputs": [],
   "source": []
  }
 ],
 "metadata": {
  "kernelspec": {
   "display_name": "Python 3 (ipykernel)",
   "language": "python",
   "name": "python3"
  },
  "language_info": {
   "codemirror_mode": {
    "name": "ipython",
    "version": 3
   },
   "file_extension": ".py",
   "mimetype": "text/x-python",
   "name": "python",
   "nbconvert_exporter": "python",
   "pygments_lexer": "ipython3",
   "version": "3.12.2"
  }
 },
 "nbformat": 4,
 "nbformat_minor": 5
}
